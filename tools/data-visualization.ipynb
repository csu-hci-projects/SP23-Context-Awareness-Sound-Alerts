{
 "cells": [
  {
   "cell_type": "code",
   "execution_count": 5,
   "metadata": {
    "collapsed": true,
    "ExecuteTime": {
     "start_time": "2023-04-28T09:01:28.725943Z",
     "end_time": "2023-04-28T09:01:38.484077Z"
    }
   },
   "outputs": [
    {
     "name": "stdout",
     "output_type": "stream",
     "text": [
      "Error retrieving city-end-time from: \n",
      "Object:644057ba4a65a55c7447191b GroupID:A-8558\n",
      "Error retrieving beach-end-time from: \n",
      "Object:644060395db95bbee031bb07 GroupID:B-5983\n",
      "Error retrieving city-end-time from: \n",
      "Object:64406d6a9d88dcc1a74ed547 GroupID:C-366\n",
      "Error retrieving beach-end-time from: \n",
      "Object:6440722c5b80d645c4596202 GroupID:D-3762\n",
      "Error retrieving city-end-time from: \n",
      "Object:64407bcf0a830617c2d6525b GroupID:A-1676\n",
      "Error retrieving beach-end-time from: \n",
      "Object:6442fbfa0139e7f9b5c8c8c5 GroupID:B-2695\n",
      "Error retrieving city-end-time from: \n",
      "Object:6443025f435e57ed9db41922 GroupID:C-7434\n",
      "Error retrieving beach-end-time from: \n",
      "Object:64430932368b5b5fb57a59d7 GroupID:D-9820\n",
      "Error retrieving beach-end-time from: \n",
      "Object:6443143d7166151e87a9d726 GroupID:A-3801\n",
      "Error retrieving city-end-time from: \n",
      "Object:64431a1058018c7549a04eda GroupID:B-4077\n",
      "Error retrieving beach-end-time from: \n",
      "Object:64431e641ac6346e6c038a36 GroupID:C-2484\n",
      "Error retrieving city-end-time from: \n",
      "Object:6446f0d463c0be00572e7573 GroupID:D-2353\n",
      "Error retrieving beach-end-time from: \n",
      "Object:6446f88eec78a1c34b4e6ddf GroupID:A-6491\n",
      "Error retrieving city-end-time from: \n",
      "Object:6446fd98266ff54e1ff2302b GroupID:B-3533\n",
      "Error retrieving beach-end-time from: \n",
      "Object:6447012b062b2f8e5c191733 GroupID:C-8722\n",
      "Error retrieving city-end-time from: \n",
      "Object:6447053c5d0d90101b0bee14 GroupID:D-688\n",
      "Error retrieving airport-end-time from: \n",
      "Object:644709285fe441168c0e58fe GroupID:A-8623\n",
      "Error retrieving airport-end-time from: \n",
      "Object:64470d1ff63226fe84e4eec5 GroupID:B-7430\n",
      "Error retrieving airport-end-time from: \n",
      "Object:644713de166d0850ef2aa4be GroupID:C-9046\n",
      "Error retrieving airport-end-time from: \n",
      "Object:64499ff350928032ed769c9e GroupID:D-8258\n",
      "Error retrieving airport-end-time from: \n",
      "Object:6449b02ae1ce3c603daef89d GroupID:A-4353\n",
      "Error retrieving airport-end-time from: \n",
      "Object:6449b39436fdfd7bec9237d7 GroupID:B-4293\n"
     ]
    },
    {
     "ename": "KeyboardInterrupt",
     "evalue": "",
     "output_type": "error",
     "traceback": [
      "\u001B[0;31m---------------------------------------------------------------------------\u001B[0m",
      "\u001B[0;31mKeyboardInterrupt\u001B[0m                         Traceback (most recent call last)",
      "Cell \u001B[0;32mIn[5], line 43\u001B[0m\n\u001B[1;32m     40\u001B[0m             \u001B[38;5;28;01mfor\u001B[39;00m alert \u001B[38;5;129;01min\u001B[39;00m \u001B[38;5;28mrange\u001B[39m(\u001B[38;5;241m3\u001B[39m):\n\u001B[1;32m     41\u001B[0m                 \u001B[38;5;28;01mpass\u001B[39;00m\n\u001B[0;32m---> 43\u001B[0m get_hit_miss(final_data, clicks, \u001B[38;5;241m5000\u001B[39m)\n",
      "Cell \u001B[0;32mIn[5], line 43\u001B[0m\n\u001B[1;32m     40\u001B[0m             \u001B[38;5;28;01mfor\u001B[39;00m alert \u001B[38;5;129;01min\u001B[39;00m \u001B[38;5;28mrange\u001B[39m(\u001B[38;5;241m3\u001B[39m):\n\u001B[1;32m     41\u001B[0m                 \u001B[38;5;28;01mpass\u001B[39;00m\n\u001B[0;32m---> 43\u001B[0m get_hit_miss(final_data, clicks, \u001B[38;5;241m5000\u001B[39m)\n",
      "File \u001B[0;32m~/.local/share/JetBrains/Toolbox/apps/PyCharm-P/ch-0/231.8109.197/plugins/python/helpers/pydev/_pydevd_bundle/pydevd_frame.py:747\u001B[0m, in \u001B[0;36mPyDBFrame.trace_dispatch\u001B[0;34m(self, frame, event, arg)\u001B[0m\n\u001B[1;32m    745\u001B[0m \u001B[38;5;66;03m# if thread has a suspend flag, we suspend with a busy wait\u001B[39;00m\n\u001B[1;32m    746\u001B[0m \u001B[38;5;28;01mif\u001B[39;00m info\u001B[38;5;241m.\u001B[39mpydev_state \u001B[38;5;241m==\u001B[39m STATE_SUSPEND:\n\u001B[0;32m--> 747\u001B[0m     \u001B[38;5;28;43mself\u001B[39;49m\u001B[38;5;241;43m.\u001B[39;49m\u001B[43mdo_wait_suspend\u001B[49m\u001B[43m(\u001B[49m\u001B[43mthread\u001B[49m\u001B[43m,\u001B[49m\u001B[43m \u001B[49m\u001B[43mframe\u001B[49m\u001B[43m,\u001B[49m\u001B[43m \u001B[49m\u001B[43mevent\u001B[49m\u001B[43m,\u001B[49m\u001B[43m \u001B[49m\u001B[43marg\u001B[49m\u001B[43m)\u001B[49m\n\u001B[1;32m    748\u001B[0m     \u001B[38;5;66;03m# No need to reset frame.f_trace to keep the same trace function.\u001B[39;00m\n\u001B[1;32m    749\u001B[0m     \u001B[38;5;28;01mreturn\u001B[39;00m \u001B[38;5;28mself\u001B[39m\u001B[38;5;241m.\u001B[39mtrace_dispatch\n",
      "File \u001B[0;32m~/.local/share/JetBrains/Toolbox/apps/PyCharm-P/ch-0/231.8109.197/plugins/python/helpers/pydev/_pydevd_bundle/pydevd_frame.py:144\u001B[0m, in \u001B[0;36mPyDBFrame.do_wait_suspend\u001B[0;34m(self, *args, **kwargs)\u001B[0m\n\u001B[1;32m    143\u001B[0m \u001B[38;5;28;01mdef\u001B[39;00m \u001B[38;5;21mdo_wait_suspend\u001B[39m(\u001B[38;5;28mself\u001B[39m, \u001B[38;5;241m*\u001B[39margs, \u001B[38;5;241m*\u001B[39m\u001B[38;5;241m*\u001B[39mkwargs):\n\u001B[0;32m--> 144\u001B[0m     \u001B[38;5;28;43mself\u001B[39;49m\u001B[38;5;241;43m.\u001B[39;49m\u001B[43m_args\u001B[49m\u001B[43m[\u001B[49m\u001B[38;5;241;43m0\u001B[39;49m\u001B[43m]\u001B[49m\u001B[38;5;241;43m.\u001B[39;49m\u001B[43mdo_wait_suspend\u001B[49m\u001B[43m(\u001B[49m\u001B[38;5;241;43m*\u001B[39;49m\u001B[43margs\u001B[49m\u001B[43m,\u001B[49m\u001B[43m \u001B[49m\u001B[38;5;241;43m*\u001B[39;49m\u001B[38;5;241;43m*\u001B[39;49m\u001B[43mkwargs\u001B[49m\u001B[43m)\u001B[49m\n",
      "File \u001B[0;32m~/.local/share/JetBrains/Toolbox/apps/PyCharm-P/ch-0/231.8109.197/plugins/python/helpers/pydev/pydevd.py:1160\u001B[0m, in \u001B[0;36mPyDB.do_wait_suspend\u001B[0;34m(self, thread, frame, event, arg, send_suspend_message, is_unhandled_exception)\u001B[0m\n\u001B[1;32m   1157\u001B[0m         from_this_thread\u001B[38;5;241m.\u001B[39mappend(frame_id)\n\u001B[1;32m   1159\u001B[0m \u001B[38;5;28;01mwith\u001B[39;00m \u001B[38;5;28mself\u001B[39m\u001B[38;5;241m.\u001B[39m_threads_suspended_single_notification\u001B[38;5;241m.\u001B[39mnotify_thread_suspended(thread_id, stop_reason):\n\u001B[0;32m-> 1160\u001B[0m     \u001B[38;5;28;43mself\u001B[39;49m\u001B[38;5;241;43m.\u001B[39;49m\u001B[43m_do_wait_suspend\u001B[49m\u001B[43m(\u001B[49m\u001B[43mthread\u001B[49m\u001B[43m,\u001B[49m\u001B[43m \u001B[49m\u001B[43mframe\u001B[49m\u001B[43m,\u001B[49m\u001B[43m \u001B[49m\u001B[43mevent\u001B[49m\u001B[43m,\u001B[49m\u001B[43m \u001B[49m\u001B[43marg\u001B[49m\u001B[43m,\u001B[49m\u001B[43m \u001B[49m\u001B[43msuspend_type\u001B[49m\u001B[43m,\u001B[49m\u001B[43m \u001B[49m\u001B[43mfrom_this_thread\u001B[49m\u001B[43m)\u001B[49m\n",
      "File \u001B[0;32m~/.local/share/JetBrains/Toolbox/apps/PyCharm-P/ch-0/231.8109.197/plugins/python/helpers/pydev/pydevd.py:1175\u001B[0m, in \u001B[0;36mPyDB._do_wait_suspend\u001B[0;34m(self, thread, frame, event, arg, suspend_type, from_this_thread)\u001B[0m\n\u001B[1;32m   1172\u001B[0m             \u001B[38;5;28mself\u001B[39m\u001B[38;5;241m.\u001B[39m_call_mpl_hook()\n\u001B[1;32m   1174\u001B[0m         \u001B[38;5;28mself\u001B[39m\u001B[38;5;241m.\u001B[39mprocess_internal_commands()\n\u001B[0;32m-> 1175\u001B[0m         \u001B[43mtime\u001B[49m\u001B[38;5;241;43m.\u001B[39;49m\u001B[43msleep\u001B[49m\u001B[43m(\u001B[49m\u001B[38;5;241;43m0.01\u001B[39;49m\u001B[43m)\u001B[49m\n\u001B[1;32m   1177\u001B[0m \u001B[38;5;28mself\u001B[39m\u001B[38;5;241m.\u001B[39mcancel_async_evaluation(get_current_thread_id(thread), \u001B[38;5;28mstr\u001B[39m(\u001B[38;5;28mid\u001B[39m(frame)))\n\u001B[1;32m   1179\u001B[0m \u001B[38;5;66;03m# process any stepping instructions\u001B[39;00m\n",
      "\u001B[0;31mKeyboardInterrupt\u001B[0m: "
     ]
    }
   ],
   "source": [
    "from create_csv import get_all_data\n",
    "\n",
    "import matplotlib.pyplot as plt\n",
    "import numpy as np\n",
    "%matplotlib inline\n",
    "\n",
    "final_data, clicks = get_all_data()\n",
    "\n",
    "def plot_subject_phase(final_data, all_clicks, subject_id: str, selected_phase: str):\n",
    "\n",
    "    # Find where the x_axis should start and end\n",
    "\n",
    "    #Grab the specific data we're talking about, this should maybe be abstracted one level above this function\n",
    "    subject_data = final_data.loc[final_data['groupID'] == subject_id]\n",
    "    plot_start = subject_data[selected_phase + '-start-time'].values[0]\n",
    "\n",
    "    last_click = all_clicks[subject_id][selected_phase].max()\n",
    "    phase_end = subject_data[selected_phase + '-end-time'].values[0]\n",
    "    plot_end = max(last_click, phase_end)\n",
    "\n",
    "    fig, ax = plt.subplots()\n",
    "\n",
    "    ax.plot(all_clicks[subject_id])\n",
    "\n",
    "    ax.set(xlim=(plot_start, plot_end), ylim=(0, 1))\n",
    "\n",
    "    plt.show()\n",
    "\n",
    "\n",
    "# plot_subject_phase(final_data, clicks, 'C-2857', 'beach')\n",
    "\n",
    "phases = ['city', 'beach', 'airport']\n",
    "\n",
    "def get_hit_miss(data, clicks, hit_threshold_ms):\n",
    "    for subject in data:\n",
    "        for phase in phases:\n",
    "            subject_clicks_this_phase = clicks[subject['groupID']][phase].tolist()\n",
    "            phase_start = subject[phase + '-start-time']\n",
    "            iter_clicks = iter(subject_clicks_this_phase)\n",
    "            for alert in range(3):\n",
    "                pass\n",
    "\n",
    "get_hit_miss(final_data, clicks, 5000)\n"
   ]
  },
  {
   "cell_type": "code",
   "execution_count": 10,
   "outputs": [],
   "source": [],
   "metadata": {
    "collapsed": false
   }
  }
 ],
 "metadata": {
  "kernelspec": {
   "display_name": "Python 3",
   "language": "python",
   "name": "python3"
  },
  "language_info": {
   "codemirror_mode": {
    "name": "ipython",
    "version": 2
   },
   "file_extension": ".py",
   "mimetype": "text/x-python",
   "name": "python",
   "nbconvert_exporter": "python",
   "pygments_lexer": "ipython2",
   "version": "2.7.6"
  }
 },
 "nbformat": 4,
 "nbformat_minor": 0
}
